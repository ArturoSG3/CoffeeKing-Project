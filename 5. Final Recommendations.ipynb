{
 "cells": [
  {
   "cell_type": "markdown",
   "metadata": {},
   "source": [
    "# 5. Final Recommendations"
   ]
  },
  {
   "cell_type": "markdown",
   "metadata": {},
   "source": [
    "For the last part of this project, I will give CoffeeKing, a new coffee company, the final recommendations regarding the three aspects I analyzed about coffee shops. "
   ]
  },
  {
   "cell_type": "markdown",
   "metadata": {},
   "source": [
    "## Hour"
   ]
  },
  {
   "cell_type": "markdown",
   "metadata": {},
   "source": [
    "To start the business, I will suggest the client go with the mean behavior, start at 7:00 and close at 18:00. With this schedule, we can start getting information about the hours with more users and see if we need to change it. "
   ]
  },
  {
   "cell_type": "markdown",
   "metadata": {},
   "source": [
    "## Place"
   ]
  },
  {
   "cell_type": "markdown",
   "metadata": {},
   "source": [
    "To know the best location, we will need to find more factors about the coffee shops in different places. With the information we have, I will suggest the client start the business in cities with more coffee shops, for example, Toronto, Las Vegas, or Toronto. The reason for that is because there will be more users. After choosing a city, we can find information about why coffee shops close in that area. "
   ]
  },
  {
   "cell_type": "markdown",
   "metadata": {},
   "source": [
    "## Business features"
   ]
  },
  {
   "cell_type": "markdown",
   "metadata": {},
   "source": [
    "According to the reviews of users, I saw some features that people talk about; I hypothesize that it's what makes them return to a coffee shop. \n",
    "1. Food, drinks, and service: Since both negative and positive reviews talk about these subjects, I believe they are not key factors to make the best coffee shop. However, they should have good quality for users to enjoy.\n",
    "2. Atmosphere: It is a subject that I saw more in positive reviews. It means that the place and location should give a unique experience. \n",
    "3. Time: Users in negative reviews speak about this subject. I believe one key factor users hate is waiting, and if a coffee shop makes them wait for more than they want to, they will notice. I recommend the business to focus on reducing the waiting time for users. "
   ]
  }
 ],
 "metadata": {
  "kernelspec": {
   "display_name": "Python 3",
   "language": "python",
   "name": "python3"
  },
  "language_info": {
   "codemirror_mode": {
    "name": "ipython",
    "version": 3
   },
   "file_extension": ".py",
   "mimetype": "text/x-python",
   "name": "python",
   "nbconvert_exporter": "python",
   "pygments_lexer": "ipython3",
   "version": "3.7.3"
  }
 },
 "nbformat": 4,
 "nbformat_minor": 4
}
